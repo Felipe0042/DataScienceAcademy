{
  "nbformat": 4,
  "nbformat_minor": 0,
  "metadata": {
    "colab": {
      "name": "Regressão_Linear_Simples_exercitando.ipynb",
      "provenance": [],
      "collapsed_sections": [
        "-YPrHFDpH7Jo",
        "LJaYmbcrIGGh",
        "JbNSWdNTb4EF",
        "BlYlg27ydF0K",
        "EHqq0dgxwoEr",
        "W_2JhnfU5DoO",
        "lzWf57TX7NSY"
      ]
    },
    "kernelspec": {
      "name": "python3",
      "display_name": "Python 3"
    },
    "language_info": {
      "name": "python"
    }
  },
  "cells": [
    {
      "cell_type": "markdown",
      "metadata": {
        "id": "-YPrHFDpH7Jo"
      },
      "source": [
        "### Carregando bibliotecas"
      ]
    },
    {
      "cell_type": "code",
      "metadata": {
        "id": "3DHul9ksYfTd"
      },
      "source": [
        "#PREVER TAXA MÉDIA DE OCUPAÇÃO CASAS EM BOSTON EUA\n",
        "\n",
        "#Carregando dataset\n",
        "from sklearn.datasets import load_boston\n",
        "boston = load_boston()\n",
        "\n",
        "#Carregando bibliotecas\n",
        "import numpy as np\n",
        "import pandas as pd\n",
        "import matplotlib.pyplot as plt\n",
        "import matplotlib as mpl\n",
        "%matplotlib inline\n",
        "\n",
        "#retirando warnings\n",
        "import warnings\n",
        "warnings.filterwarnings('ignore')"
      ],
      "execution_count": 1,
      "outputs": []
    },
    {
      "cell_type": "markdown",
      "metadata": {
        "id": "LJaYmbcrIGGh"
      },
      "source": [
        "### Pré-processamento"
      ]
    },
    {
      "cell_type": "code",
      "metadata": {
        "colab": {
          "base_uri": "https://localhost:8080/",
          "height": 203
        },
        "id": "o7ZgiFmDZrKq",
        "outputId": "dafd5f47-932c-4dfa-b2f4-5458000def8b"
      },
      "source": [
        "#Extraindo variáveis explanatorias ou features ou caracteristias\n",
        "dataset = pd.DataFrame(boston.data, columns=boston.feature_names)\n",
        "dataset['target'] = boston.target\n",
        "\n",
        "dataset.head()"
      ],
      "execution_count": 2,
      "outputs": [
        {
          "output_type": "execute_result",
          "data": {
            "text/html": [
              "<div>\n",
              "<style scoped>\n",
              "    .dataframe tbody tr th:only-of-type {\n",
              "        vertical-align: middle;\n",
              "    }\n",
              "\n",
              "    .dataframe tbody tr th {\n",
              "        vertical-align: top;\n",
              "    }\n",
              "\n",
              "    .dataframe thead th {\n",
              "        text-align: right;\n",
              "    }\n",
              "</style>\n",
              "<table border=\"1\" class=\"dataframe\">\n",
              "  <thead>\n",
              "    <tr style=\"text-align: right;\">\n",
              "      <th></th>\n",
              "      <th>CRIM</th>\n",
              "      <th>ZN</th>\n",
              "      <th>INDUS</th>\n",
              "      <th>CHAS</th>\n",
              "      <th>NOX</th>\n",
              "      <th>RM</th>\n",
              "      <th>AGE</th>\n",
              "      <th>DIS</th>\n",
              "      <th>RAD</th>\n",
              "      <th>TAX</th>\n",
              "      <th>PTRATIO</th>\n",
              "      <th>B</th>\n",
              "      <th>LSTAT</th>\n",
              "      <th>target</th>\n",
              "    </tr>\n",
              "  </thead>\n",
              "  <tbody>\n",
              "    <tr>\n",
              "      <th>0</th>\n",
              "      <td>0.00632</td>\n",
              "      <td>18.0</td>\n",
              "      <td>2.31</td>\n",
              "      <td>0.0</td>\n",
              "      <td>0.538</td>\n",
              "      <td>6.575</td>\n",
              "      <td>65.2</td>\n",
              "      <td>4.0900</td>\n",
              "      <td>1.0</td>\n",
              "      <td>296.0</td>\n",
              "      <td>15.3</td>\n",
              "      <td>396.90</td>\n",
              "      <td>4.98</td>\n",
              "      <td>24.0</td>\n",
              "    </tr>\n",
              "    <tr>\n",
              "      <th>1</th>\n",
              "      <td>0.02731</td>\n",
              "      <td>0.0</td>\n",
              "      <td>7.07</td>\n",
              "      <td>0.0</td>\n",
              "      <td>0.469</td>\n",
              "      <td>6.421</td>\n",
              "      <td>78.9</td>\n",
              "      <td>4.9671</td>\n",
              "      <td>2.0</td>\n",
              "      <td>242.0</td>\n",
              "      <td>17.8</td>\n",
              "      <td>396.90</td>\n",
              "      <td>9.14</td>\n",
              "      <td>21.6</td>\n",
              "    </tr>\n",
              "    <tr>\n",
              "      <th>2</th>\n",
              "      <td>0.02729</td>\n",
              "      <td>0.0</td>\n",
              "      <td>7.07</td>\n",
              "      <td>0.0</td>\n",
              "      <td>0.469</td>\n",
              "      <td>7.185</td>\n",
              "      <td>61.1</td>\n",
              "      <td>4.9671</td>\n",
              "      <td>2.0</td>\n",
              "      <td>242.0</td>\n",
              "      <td>17.8</td>\n",
              "      <td>392.83</td>\n",
              "      <td>4.03</td>\n",
              "      <td>34.7</td>\n",
              "    </tr>\n",
              "    <tr>\n",
              "      <th>3</th>\n",
              "      <td>0.03237</td>\n",
              "      <td>0.0</td>\n",
              "      <td>2.18</td>\n",
              "      <td>0.0</td>\n",
              "      <td>0.458</td>\n",
              "      <td>6.998</td>\n",
              "      <td>45.8</td>\n",
              "      <td>6.0622</td>\n",
              "      <td>3.0</td>\n",
              "      <td>222.0</td>\n",
              "      <td>18.7</td>\n",
              "      <td>394.63</td>\n",
              "      <td>2.94</td>\n",
              "      <td>33.4</td>\n",
              "    </tr>\n",
              "    <tr>\n",
              "      <th>4</th>\n",
              "      <td>0.06905</td>\n",
              "      <td>0.0</td>\n",
              "      <td>2.18</td>\n",
              "      <td>0.0</td>\n",
              "      <td>0.458</td>\n",
              "      <td>7.147</td>\n",
              "      <td>54.2</td>\n",
              "      <td>6.0622</td>\n",
              "      <td>3.0</td>\n",
              "      <td>222.0</td>\n",
              "      <td>18.7</td>\n",
              "      <td>396.90</td>\n",
              "      <td>5.33</td>\n",
              "      <td>36.2</td>\n",
              "    </tr>\n",
              "  </tbody>\n",
              "</table>\n",
              "</div>"
            ],
            "text/plain": [
              "      CRIM    ZN  INDUS  CHAS    NOX  ...    TAX  PTRATIO       B  LSTAT  target\n",
              "0  0.00632  18.0   2.31   0.0  0.538  ...  296.0     15.3  396.90   4.98    24.0\n",
              "1  0.02731   0.0   7.07   0.0  0.469  ...  242.0     17.8  396.90   9.14    21.6\n",
              "2  0.02729   0.0   7.07   0.0  0.469  ...  242.0     17.8  392.83   4.03    34.7\n",
              "3  0.03237   0.0   2.18   0.0  0.458  ...  222.0     18.7  394.63   2.94    33.4\n",
              "4  0.06905   0.0   2.18   0.0  0.458  ...  222.0     18.7  396.90   5.33    36.2\n",
              "\n",
              "[5 rows x 14 columns]"
            ]
          },
          "metadata": {
            "tags": []
          },
          "execution_count": 2
        }
      ]
    },
    {
      "cell_type": "code",
      "metadata": {
        "colab": {
          "base_uri": "https://localhost:8080/"
        },
        "id": "NPu1VoCeaglz",
        "outputId": "e5e20bef-c9f4-4cba-ec99-821b1597fe61"
      },
      "source": [
        "valor_medio_target = dataset['target'].mean()\n",
        "valor_medio_target"
      ],
      "execution_count": 3,
      "outputs": [
        {
          "output_type": "execute_result",
          "data": {
            "text/plain": [
              "22.532806324110698"
            ]
          },
          "metadata": {
            "tags": []
          },
          "execution_count": 3
        }
      ]
    },
    {
      "cell_type": "markdown",
      "metadata": {
        "id": "JbNSWdNTb4EF"
      },
      "source": [
        "### Calculadon SSE\n",
        "\n",
        "---\n",
        "\n",
        "\n",
        "\n",
        "  SSE: Diferença ao quadrado do valor previsto e do valor observado"
      ]
    },
    {
      "cell_type": "code",
      "metadata": {
        "colab": {
          "base_uri": "https://localhost:8080/",
          "height": 284
        },
        "id": "Tov-GeeRcLr2",
        "outputId": "e16ef883-62a3-4df8-e194-1c7c1be82cf1"
      },
      "source": [
        "square_erros = pd.Series(valor_medio_target - dataset['target'])\n",
        "SSE = round((square_erros**2).sum(), 2)\n",
        "SSE\n",
        "\n",
        "#HISTOGRAMA\n",
        "\n",
        "plt.hist(square_erros)\n",
        "plt.plot()"
      ],
      "execution_count": 4,
      "outputs": [
        {
          "output_type": "execute_result",
          "data": {
            "text/plain": [
              "[]"
            ]
          },
          "metadata": {
            "tags": []
          },
          "execution_count": 4
        },
        {
          "output_type": "display_data",
          "data": {
            "image/png": "[encoded data removed]",
            "text/plain": [
              "<Figure size 432x288 with 1 Axes>"
            ]
          },
          "metadata": {
            "tags": [],
            "needs_background": "light"
          }
        }
      ]
    },
    {
      "cell_type": "markdown",
      "metadata": {
        "id": "BlYlg27ydF0K"
      },
      "source": [
        "### Funções estátisticas \n",
        "---"
      ]
    },
    {
      "cell_type": "code",
      "metadata": {
        "id": "1a9AbuMHdFgN"
      },
      "source": [
        "#Função para calcular o desvio padrão\n",
        "def calc_desvio_padrao(variable, bias = 0, round_d = 3):\n",
        "  observation = float(len(variable))\n",
        "  return round(np.sqrt(np.sum((variable - np.mean(variable))**2)/(observation - min(bias, 1))), ndigits=round_d)\n",
        "\n",
        "#Funções para calcular a varianca e a correlação\n",
        "def covariance(variable_1, variable_2, bias = 0):\n",
        "  observation = float(len(variable_1))\n",
        "  return np.sum((variable_1 - np.mean(variable_1)) * (variable_2 - np.mean(variable_2))) / (observation - min(bias, 1))\n",
        "\n",
        "def standardize(variable_n):\n",
        "  return (variable_n - np.mean(variable_n)) / np.std(variable_n)\n",
        "\n",
        "def correlation(var1, var2, bias = 0):\n",
        "  return covariance(standardize(var1), standardize(var2), bias)\n"
      ],
      "execution_count": 5,
      "outputs": []
    },
    {
      "cell_type": "code",
      "metadata": {
        "colab": {
          "base_uri": "https://localhost:8080/"
        },
        "id": "WA8NB-irizRn",
        "outputId": "ee6a9320-8f0b-4866-c6ef-630167b4673d"
      },
      "source": [
        "#Comparar os valores obtidos com a biblioteca Scipy\n",
        "from scipy.stats.stats import pearsonr\n",
        "\n",
        "print('Nossa estimativa de correlação: {:.3f}'.format(correlation(dataset['RM'], dataset['target'])))\n",
        "print('calculado a partir da função pearsonr: {:.3f}'.format(pearsonr(dataset['RM'], dataset['target'])[0]))"
      ],
      "execution_count": 6,
      "outputs": [
        {
          "output_type": "stream",
          "text": [
            "Nossa estimativa de correlação: 0.695\n",
            "calculado a partir da função pearsonr: 0.695\n"
          ],
          "name": "stdout"
        }
      ]
    },
    {
      "cell_type": "code",
      "metadata": {
        "colab": {
          "base_uri": "https://localhost:8080/",
          "height": 300
        },
        "id": "yTekxK9am6Ud",
        "outputId": "77c1650f-a588-4f38-f2f7-48b81601472c"
      },
      "source": [
        "x_range = [dataset['RM'].min(), dataset['RM'].max()]\n",
        "y_range = [dataset['target'].min(), dataset['target'].max()]\n",
        "\n",
        "dataset.plot(kind= 'scatter', x = 'RM', y = 'target', xlim = x_range, ylim = y_range)"
      ],
      "execution_count": 37,
      "outputs": [
        {
          "output_type": "execute_result",
          "data": {
            "text/plain": [
              "<matplotlib.axes._subplots.AxesSubplot at 0x7f21606d5490>"
            ]
          },
          "metadata": {
            "tags": []
          },
          "execution_count": 37
        },
        {
          "output_type": "display_data",
          "data": {
            "image/png": "[encoded data removed]",
            "text/plain": [
              "<Figure size 432x288 with 1 Axes>"
            ]
          },
          "metadata": {
            "tags": [],
            "needs_background": "light"
          }
        }
      ]
    },
    {
      "cell_type": "markdown",
      "metadata": {
        "id": "EHqq0dgxwoEr"
      },
      "source": [
        "## Construindo Modelo de Regressão com o StarsModels"
      ]
    },
    {
      "cell_type": "code",
      "metadata": {
        "id": "f5RAxYINxOdu"
      },
      "source": [
        "import statsmodels.api as sm"
      ],
      "execution_count": 8,
      "outputs": []
    },
    {
      "cell_type": "code",
      "metadata": {
        "id": "Nz4IHapZwjGe"
      },
      "source": [
        "y = dataset['target']\n",
        "X = dataset['RM']"
      ],
      "execution_count": 9,
      "outputs": []
    },
    {
      "cell_type": "code",
      "metadata": {
        "colab": {
          "base_uri": "https://localhost:8080/",
          "height": 203
        },
        "id": "pIyFMRGcxZ7G",
        "outputId": "7e8a0f74-058e-45dc-b2d1-829b64844364"
      },
      "source": [
        "#inserindo coeficientes inicias dos bias \n",
        "x = sm.add_constant(X)\n",
        "x.head()"
      ],
      "execution_count": 10,
      "outputs": [
        {
          "output_type": "execute_result",
          "data": {
            "text/html": [
              "<div>\n",
              "<style scoped>\n",
              "    .dataframe tbody tr th:only-of-type {\n",
              "        vertical-align: middle;\n",
              "    }\n",
              "\n",
              "    .dataframe tbody tr th {\n",
              "        vertical-align: top;\n",
              "    }\n",
              "\n",
              "    .dataframe thead th {\n",
              "        text-align: right;\n",
              "    }\n",
              "</style>\n",
              "<table border=\"1\" class=\"dataframe\">\n",
              "  <thead>\n",
              "    <tr style=\"text-align: right;\">\n",
              "      <th></th>\n",
              "      <th>const</th>\n",
              "      <th>RM</th>\n",
              "    </tr>\n",
              "  </thead>\n",
              "  <tbody>\n",
              "    <tr>\n",
              "      <th>0</th>\n",
              "      <td>1.0</td>\n",
              "      <td>6.575</td>\n",
              "    </tr>\n",
              "    <tr>\n",
              "      <th>1</th>\n",
              "      <td>1.0</td>\n",
              "      <td>6.421</td>\n",
              "    </tr>\n",
              "    <tr>\n",
              "      <th>2</th>\n",
              "      <td>1.0</td>\n",
              "      <td>7.185</td>\n",
              "    </tr>\n",
              "    <tr>\n",
              "      <th>3</th>\n",
              "      <td>1.0</td>\n",
              "      <td>6.998</td>\n",
              "    </tr>\n",
              "    <tr>\n",
              "      <th>4</th>\n",
              "      <td>1.0</td>\n",
              "      <td>7.147</td>\n",
              "    </tr>\n",
              "  </tbody>\n",
              "</table>\n",
              "</div>"
            ],
            "text/plain": [
              "   const     RM\n",
              "0    1.0  6.575\n",
              "1    1.0  6.421\n",
              "2    1.0  7.185\n",
              "3    1.0  6.998\n",
              "4    1.0  7.147"
            ]
          },
          "metadata": {
            "tags": []
          },
          "execution_count": 10
        }
      ]
    },
    {
      "cell_type": "code",
      "metadata": {
        "id": "6YY8P8XixoaM"
      },
      "source": [
        "#criando modelo\n",
        "modelo = sm.OLS(y,x)\n",
        "\n",
        "#treinando modelo\n",
        "modelo_val = modelo.fit()"
      ],
      "execution_count": 11,
      "outputs": []
    },
    {
      "cell_type": "code",
      "metadata": {
        "colab": {
          "base_uri": "https://localhost:8080/"
        },
        "id": "MO2FUI_BykA-",
        "outputId": "45c28d65-8637-483f-efdd-274f4d23001c"
      },
      "source": [
        "print(modelo_val.summary())"
      ],
      "execution_count": 12,
      "outputs": [
        {
          "output_type": "stream",
          "text": [
            "                            OLS Regression Results                            \n",
            "==============================================================================\n",
            "Dep. Variable:                 target   R-squared:                       0.484\n",
            "Model:                            OLS   Adj. R-squared:                  0.483\n",
            "Method:                 Least Squares   F-statistic:                     471.8\n",
            "Date:                Thu, 03 Jun 2021   Prob (F-statistic):           2.49e-74\n",
            "Time:                        12:42:26   Log-Likelihood:                -1673.1\n",
            "No. Observations:                 506   AIC:                             3350.\n",
            "Df Residuals:                     504   BIC:                             3359.\n",
            "Df Model:                           1                                         \n",
            "Covariance Type:            nonrobust                                         \n",
            "==============================================================================\n",
            "                 coef    std err          t      P>|t|      [0.025      0.975]\n",
            "------------------------------------------------------------------------------\n",
            "const        -34.6706      2.650    -13.084      0.000     -39.877     -29.465\n",
            "RM             9.1021      0.419     21.722      0.000       8.279       9.925\n",
            "==============================================================================\n",
            "Omnibus:                      102.585   Durbin-Watson:                   0.684\n",
            "Prob(Omnibus):                  0.000   Jarque-Bera (JB):              612.449\n",
            "Skew:                           0.726   Prob(JB):                    1.02e-133\n",
            "Kurtosis:                       8.190   Cond. No.                         58.4\n",
            "==============================================================================\n",
            "\n",
            "Warnings:\n",
            "[1] Standard Errors assume that the covariance matrix of the errors is correctly specified.\n"
          ],
          "name": "stdout"
        }
      ]
    },
    {
      "cell_type": "markdown",
      "metadata": {
        "id": "vbjQTnZ8zCd8"
      },
      "source": [
        "Fazendo previsores do modelo"
      ]
    },
    {
      "cell_type": "code",
      "metadata": {
        "id": "35FFIWXeyxmS"
      },
      "source": [
        "valores_previstos = modelo_val.predict(x)\n",
        "valores_previstos"
      ],
      "execution_count": null,
      "outputs": []
    },
    {
      "cell_type": "code",
      "metadata": {
        "colab": {
          "base_uri": "https://localhost:8080/"
        },
        "id": "JqpfrduHzHgS",
        "outputId": "00aaf446-d84f-410b-ed32-d58d9b3a922c"
      },
      "source": [
        "RM = 5\n",
        "x_teste = np.array([1, RM], dtype=np.float32)\n",
        "print('se o RM for {} o valor da taxa de ocupação prevista é  {:.4f}'.format(RM,float(modelo_val.predict(x_teste))))"
      ],
      "execution_count": 14,
      "outputs": [
        {
          "output_type": "stream",
          "text": [
            "se o RM for 5 o valor da taxa de ocupação prevista é  10.8399\n"
          ],
          "name": "stdout"
        }
      ]
    },
    {
      "cell_type": "markdown",
      "metadata": {
        "id": "W_2JhnfU5DoO"
      },
      "source": [
        "### Grafico de dispersão"
      ]
    },
    {
      "cell_type": "code",
      "metadata": {
        "colab": {
          "base_uri": "https://localhost:8080/",
          "height": 283
        },
        "id": "I6iMdgOt5K99",
        "outputId": "eb26f1a5-971d-4628-d6fd-c94a149341fb"
      },
      "source": [
        "scatter_plot = dataset.plot(kind= 'scatter', x = 'RM', y = 'target', xlim = x_range, ylim = y_range)\n",
        "\n",
        "#linhas médias \n",
        "meanX = scatter_plot.plot(x_range, [dataset['target'].mean(), dataset['target'].mean()], '--', color = 'red')\n",
        "meanY = scatter_plot.plot([dataset['RM'].mean(), dataset['RM'].mean()], y_range, '--', COLOR='red')"
      ],
      "execution_count": 40,
      "outputs": [
        {
          "output_type": "display_data",
          "data": {
            "image/png": "[encoded data removed]",
            "text/plain": [
              "<Figure size 432x288 with 1 Axes>"
            ]
          },
          "metadata": {
            "tags": [],
            "needs_background": "light"
          }
        }
      ]
    },
    {
      "cell_type": "markdown",
      "metadata": {
        "id": "lzWf57TX7NSY"
      },
      "source": [
        "### Gráfico de regressão"
      ]
    },
    {
      "cell_type": "code",
      "metadata": {
        "colab": {
          "base_uri": "https://localhost:8080/",
          "height": 283
        },
        "id": "5W3_A9YC7BSx",
        "outputId": "6ce07384-681b-4057-f799-25684ab5fb47"
      },
      "source": [
        "#primeira camada do Scatter Plot\n",
        "scatter_plot = dataset.plot(kind= 'scatter', x = 'RM', y = 'target', xlim = x_range, ylim = y_range)\n",
        "\n",
        "#segunda camada do Scatter Plot (médias)\n",
        "meanX = scatter_plot.plot(x_range, [dataset['target'].mean(), dataset['target'].mean()], '--', color = 'red')\n",
        "meanY = scatter_plot.plot([dataset['RM'].mean(), dataset['RM'].mean()], y_range, '--', COLOR='red')\n",
        "\n",
        "#terceira camada Scatter Plot (linha de regressão)\n",
        "regression_line = scatter_plot.plot(dataset['RM'], valores_previstos, '-', color='orange')"
      ],
      "execution_count": 39,
      "outputs": [
        {
          "output_type": "display_data",
          "data": {
            "image/png": "[encoded data removed]",
            "text/plain": [
              "<Figure size 432x288 with 1 Axes>"
            ]
          },
          "metadata": {
            "tags": [],
            "needs_background": "light"
          }
        }
      ]
    },
    {
      "cell_type": "code",
      "metadata": {
        "colab": {
          "base_uri": "https://localhost:8080/",
          "height": 279
        },
        "id": "hTvsspyy-fH9",
        "outputId": "5df18660-cbb8-49bd-cb2e-5227b587ebb5"
      },
      "source": [
        "#gerando residuos \n",
        "residuos = dataset['target'] - valores_previstos\n",
        "residuos_normalizados = standardize(residuos)\n",
        "\n",
        "\n",
        "#graficos dos residuos \n",
        "residuos_scatter_plot = plt.plot(dataset['RM'], residuos_normalizados, 'bp')\n",
        "plt.xlabel('RM')\n",
        "plt.ylabel('Residuos Normalizados')\n",
        "\n",
        "mean_residual = plt.plot([int(x_range[0]), round(x_range[1], 0)], [0,0], '--', color = 'red')\n",
        "upper_bound = plt.plot([int(x_range[0]), round(x_range[1], 0)], [3,3], '--', color = 'red')\n",
        "lower_bound = plt.plot([int(x_range[0]), round(x_range[1], 0)], [-3,-3], '--', color = 'red')\n",
        "plt.grid()"
      ],
      "execution_count": 66,
      "outputs": [
        {
          "output_type": "display_data",
          "data": {
            "image/png": "[encoded data removed]",
            "text/plain": [
              "<Figure size 432x288 with 1 Axes>"
            ]
          },
          "metadata": {
            "tags": [],
            "needs_background": "light"
          }
        }
      ]
    },
    {
      "cell_type": "markdown",
      "metadata": {
        "id": "XPhlzBIICL27"
      },
      "source": [
        "##Construindo Modelo de Regressão com o Scikit-Learn"
      ]
    },
    {
      "cell_type": "code",
      "metadata": {
        "id": "v67Gf1uVCahD"
      },
      "source": [
        "from sklearn import linear_model"
      ],
      "execution_count": 67,
      "outputs": []
    },
    {
      "cell_type": "code",
      "metadata": {
        "id": "b8uk11OWC0yp"
      },
      "source": [
        "#cria objeto \n",
        "modelo_v2 = linear_model.LinearRegression(normalize=False, fit_intercept=True)"
      ],
      "execution_count": 68,
      "outputs": []
    },
    {
      "cell_type": "code",
      "metadata": {
        "id": "rBPRtIyuDLaY"
      },
      "source": [
        "#definir os valores de x e y\n",
        "num_observ = len(dataset)\n",
        "\n",
        "X = dataset['RM'].values.reshape((num_observ, 1 )) #dados devem estar na forma de matriz\n",
        "y = dataset['target'].values #y pode ser em vetor "
      ],
      "execution_count": 72,
      "outputs": []
    },
    {
      "cell_type": "code",
      "metadata": {
        "id": "Sn58C5DDECR_"
      },
      "source": [
        "modelo_v2.fit(X,y)\n",
        "\n",
        "print(modelo_v2.coef_)\n",
        "print(modelo_v2.intercept_)\n",
        "\n",
        "valores_previstos_sl = modelo_v2.predict(X)"
      ],
      "execution_count": null,
      "outputs": []
    },
    {
      "cell_type": "code",
      "metadata": {
        "colab": {
          "base_uri": "https://localhost:8080/"
        },
        "id": "SfcpNMimE6YS",
        "outputId": "fd24fc86-256d-45d1-fbef-251175c3db95"
      },
      "source": [
        "RM = 5\n",
        "Xp = np.array(RM)\n",
        "Xp = Xp.reshape(-1, 1)\n",
        "\n",
        "print('valor previsto {:.2f}'.format(float(modelo_v2.predict(Xp))))"
      ],
      "execution_count": 87,
      "outputs": [
        {
          "output_type": "stream",
          "text": [
            "valor previsto 10.84\n"
          ],
          "name": "stdout"
        }
      ]
    }
  ]
}