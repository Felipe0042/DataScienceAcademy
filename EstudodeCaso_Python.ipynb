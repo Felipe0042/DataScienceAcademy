{
  "nbformat": 4,
  "nbformat_minor": 0,
  "metadata": {
    "colab": {
      "name": "EstudodeCaso-Python.ipynb",
      "provenance": [],
      "collapsed_sections": [],
      "authorship_tag": "ABX9TyPuw0lf1OLiU2Z0U2Lw0Em5",
      "include_colab_link": true
    },
    "kernelspec": {
      "name": "python3",
      "display_name": "Python 3"
    },
    "language_info": {
      "name": "python"
    }
  },
  "cells": [
    {
      "cell_type": "markdown",
      "metadata": {
        "id": "view-in-github",
        "colab_type": "text"
      },
      "source": [
        "<a href=\"https://colab.research.google.com/github/Felipe0042/DataScienceAcademy/blob/main/EstudodeCaso_Python.ipynb\" target=\"_parent\"><img src=\"https://colab.research.google.com/assets/colab-badge.svg\" alt=\"Open In Colab\"/></a>"
      ]
    },
    {
      "cell_type": "code",
      "metadata": {
        "id": "Fs-9fLiOlg9y"
      },
      "source": [
        "import pandas as pd\n",
        "import numpy as np\n",
        "import matplotlib.pyplot as plt\n",
        "import seaborn as sns"
      ],
      "execution_count": 43,
      "outputs": []
    },
    {
      "cell_type": "markdown",
      "metadata": {
        "id": "4rozdJKexNY-"
      },
      "source": [
        "Carregando dataset\n"
      ]
    },
    {
      "cell_type": "code",
      "metadata": {
        "id": "a2IkKl3QxL30"
      },
      "source": [
        "arquivo = \"/content/bank.csv\"\n",
        "data_set = pd.read_csv(arquivo, sep=\";\")"
      ],
      "execution_count": 26,
      "outputs": []
    },
    {
      "cell_type": "markdown",
      "metadata": {
        "id": "FHzMFybVxcyA"
      },
      "source": [
        "Plotando gráfico"
      ]
    },
    {
      "cell_type": "code",
      "metadata": {
        "colab": {
          "base_uri": "https://localhost:8080/",
          "height": 360
        },
        "id": "NWDmwLdtlsGN",
        "outputId": "b6090a4f-e78b-4385-e537-06a46c5f1c16"
      },
      "source": [
        "jobs = data_set['job']\n",
        "valores = jobs.value_counts()\n",
        "sns.barplot(x=valores.index, y=valores.values)\n",
        "plt.xticks(rotation=90)"
      ],
      "execution_count": 36,
      "outputs": [
        {
          "output_type": "execute_result",
          "data": {
            "text/plain": [
              "(array([ 0,  1,  2,  3,  4,  5,  6,  7,  8,  9, 10, 11]),\n",
              " <a list of 12 Text major ticklabel objects>)"
            ]
          },
          "metadata": {
            "tags": []
          },
          "execution_count": 36
        },
        {
          "output_type": "display_data",
          "data": {
            "image/png": "[encoded data removed]",
            "text/plain": [
              "<Figure size 432x288 with 1 Axes>"
            ]
          },
          "metadata": {
            "tags": [],
            "needs_background": "light"
          }
        }
      ]
    },
    {
      "cell_type": "markdown",
      "metadata": {
        "id": "T24L2jQaxjAX"
      },
      "source": [
        "Criar uma coluna em um dataset"
      ]
    },
    {
      "cell_type": "code",
      "metadata": {
        "id": "irimbq_zxAZc"
      },
      "source": [
        "lista = []\n",
        "\n",
        "for i in range(len(jobs)):\n",
        "    if data_set['job'][i] == 'admin':\n",
        "        lista.append('medio')\n",
        "    elif data_set['job'][i] == 'blue-collar':\n",
        "        lista.append('baixo')\n",
        "    elif data_set['job'][i] == 'entrepreneur':\n",
        "        lista.append('alto')\n",
        "    elif data_set['job'][i] == 'housemaid':\n",
        "        lista.append('baixo')\n",
        "    elif data_set['job'][i] == 'management':\n",
        "        lista.append('medio')\n",
        "    elif data_set['job'][i] == 'retired':\n",
        "        lista.append('baixo')\n",
        "    elif data_set['job'][i] == 'self-employed':\n",
        "        lista.append('medio')\n",
        "    elif data_set['job'][i] == 'student':\n",
        "        lista.append('alto')\n",
        "    elif data_set['job'][i] == 'technician':\n",
        "        lista.append('alto')\n",
        "    elif data_set['job'][i] == 'unemployed':\n",
        "        lista.append('baixo')\n",
        "    elif data_set['job'][i] == 'unknow':\n",
        "        lista.append('baixo')\n",
        "    else:\n",
        "        lista.append('baixo')"
      ],
      "execution_count": 28,
      "outputs": []
    },
    {
      "cell_type": "markdown",
      "metadata": {
        "id": "utMPeONYxn_H"
      },
      "source": [
        "Unindo dois DataFrames "
      ]
    },
    {
      "cell_type": "code",
      "metadata": {
        "id": "jHDCip3dx-1u"
      },
      "source": [
        "df = pd.DataFrame(lista, columns=['technology_use'])\n",
        "c = pd.concat([data_set,df], axis=1)"
      ],
      "execution_count": 29,
      "outputs": []
    },
    {
      "cell_type": "markdown",
      "metadata": {
        "id": "Ekjpw_EM4TKK"
      },
      "source": [
        "# Criando variavel dummy com a função lambda\n",
        "\n",
        "'''\n",
        "Expressões lambda - funções anônimas (não tem nome)\n",
        "\n",
        "FUNÇÃO NORMAL:\n",
        "\n",
        "  def funcao(arg1, arg2):\n",
        "      return arg1*arg2\n",
        "\n",
        "  var = funcao(arg1,arg2)\n",
        "\n",
        "FUNÇÃO LAMBDA\n",
        "\n",
        "  a = lambda arg1, arg2: arg1*arg2\n",
        "\n",
        "'''"
      ]
    },
    {
      "cell_type": "code",
      "metadata": {
        "id": "3cZNG-qa3_BD"
      },
      "source": [
        "data_set['default_dummy'] = list(map(lambda x: 1 if x=='yes' else 0, data_set['default']))"
      ],
      "execution_count": 39,
      "outputs": []
    },
    {
      "cell_type": "markdown",
      "metadata": {
        "id": "xAz5bCcMKXym"
      },
      "source": [
        "Transformar todas as variaveis categóricas em dummy "
      ]
    },
    {
      "cell_type": "code",
      "metadata": {
        "id": "VRfP7WXzak6n"
      },
      "source": [
        "from sklearn.preprocessing import OneHotEncoder\n",
        "\n",
        "def converter_one_hot(coluna):\n",
        "  encoder = OneHotEncoder()\n",
        "  valores, categorias = data_set[coluna].factorize()\n",
        "  converter_onehot = encoder.fit_transform(valores.reshape(-1,1))\n",
        "  onehot = pd.DataFrame(list(converter_onehot.toarray()))\n",
        "  return onehot\n",
        "\n",
        "\n",
        "colunas = ['job', 'marital', 'education', 'default', 'housing',\n",
        "          'loan', 'contact', 'month', 'poutcome', 'y', 'technology_use']\n",
        "\n",
        "valor = []\n",
        "for i in range(len(colunas)):\n",
        "  auxiliar = converter_one_hot(colunas[i])\n",
        "  valor.insert(i,auxiliar)\n",
        "\n",
        "total = pd.DataFrame()\n",
        "for i in range(len(colunas)):\n",
        "  final = pd.DataFrame(valor[i])\n",
        "  total = pd.concat([final, total], axis=1)\n"
      ],
      "execution_count": null,
      "outputs": []
    }
  ]
}